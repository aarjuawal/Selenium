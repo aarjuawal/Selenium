{
 "cells": [
  {
   "cell_type": "code",
   "execution_count": 2,
   "metadata": {},
   "outputs": [],
   "source": [
    "from selenium import webdriver\n",
    "from selenium.webdriver.common.by import By\n",
    "import time\n",
    "from selenium.webdriver.support.ui import WebDriverWait\n",
    "from selenium.webdriver.support import expected_conditions as EC\n",
    "from selenium.webdriver.common.alert import Alert"
   ]
  },
  {
   "cell_type": "code",
   "execution_count": 3,
   "metadata": {},
   "outputs": [],
   "source": [
    "def setup():\n",
    "    driver = webdriver.Chrome()\n",
    "    driver.get(\"https://namespace-team.github.io/ems-web/login\")\n",
    "    return driver\n",
    "def teardown(driver):\n",
    "    driver.quit()"
   ]
  },
  {
   "cell_type": "code",
   "execution_count": 4,
   "metadata": {},
   "outputs": [],
   "source": [
    "def sign_in(driver):\n",
    "    wait = WebDriverWait(driver, 10)\n",
    "\n",
    "    username = wait.until(EC.presence_of_element_located((By.XPATH, \"//input[@type='email']\")))\n",
    "    username.send_keys(\"testuser@namespace.jp\")\n",
    "\n",
    "    password = wait.until(EC.presence_of_element_located((By.ID, \"password\")))\n",
    "    password.send_keys(\"p@ssw0rD44\")\n",
    "\n",
    "    submit = wait.until(EC.element_to_be_clickable((By.XPATH, \"//button\")))\n",
    "    submit.click()\n",
    "    teardown(driver)\n",
    "sign_in(setup())"
   ]
  },
  {
   "cell_type": "code",
   "execution_count": null,
   "metadata": {},
   "outputs": [],
   "source": []
  }
 ],
 "metadata": {
  "kernelspec": {
   "display_name": "Python 3",
   "language": "python",
   "name": "python3"
  },
  "language_info": {
   "codemirror_mode": {
    "name": "ipython",
    "version": 3
   },
   "file_extension": ".py",
   "mimetype": "text/x-python",
   "name": "python",
   "nbconvert_exporter": "python",
   "pygments_lexer": "ipython3",
   "version": "3.12.3"
  }
 },
 "nbformat": 4,
 "nbformat_minor": 2
}
